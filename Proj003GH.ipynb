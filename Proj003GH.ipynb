# Instalar o PyCaret
!pip install pycaret

# Importar bibliotecas necessárias
import pandas as pd
import warnings
import requests
from io import StringIO

warnings.filterwarnings("ignore")

# URL do arquivo no GitHub
url = 'https://raw.githubusercontent.com/marcordovil/PROJ-GIT/main/stad_data_clinical_ctgr.txt'

# Baixar o conteúdo do arquivo
response = requests.get(url)
data_str = response.content.decode('utf-8')

# Ler o arquivo usando pandas
data = pd.read_csv(StringIO(data_str), sep="\t")

# Verificar os dados carregados
print(data.head())

# Importar PyCaret
from pycaret.classification import *

# Configuração do ambiente
s = setup(data, target='Molecular subtype', session_id=123)


# Contar e listar as categorias de 'Molecular subtype'
cancer_types = data['Molecular subtype'].value_counts()
print("Tipos de câncer e suas frequências na amostra:")
print(cancer_types)

# Configurar o ambiente de classificação em PyCaret
s = setup(data, target='Molecular subtype', session_id=123)

# Criar um modelo de Random Forest e ajustá-lo
rf_model = create_model('rf')

# Avaliar o modelo
evaluate_model(rf_model)

# Obter e imprimir as métricas
results = pull()
print(results)