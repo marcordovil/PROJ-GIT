{
 "cells": [
  {
   "cell_type": "code",
   "execution_count": null,
   "id": "266c35d2-af92-4038-b32f-e0947f7f256b",
   "metadata": {},
   "outputs": [],
   "source": [
    "# Instalar o PyCaret\n",
    "!pip install pycaret\n",
    "\n",
    "# Importar bibliotecas necessárias\n",
    "import pandas as pd\n",
    "import warnings\n",
    "import requests\n",
    "from io import StringIO\n",
    "\n",
    "warnings.filterwarnings(\"ignore\")\n",
    "\n",
    "# URL do arquivo no GitHub\n",
    "url = 'https://raw.githubusercontent.com/marcordovil/PROJ-GIT/main/stad_data_clinical_ctgr.txt'\n",
    "\n",
    "# Baixar o conteúdo do arquivo\n",
    "response = requests.get(url)\n",
    "data_str = response.content.decode('utf-8')\n",
    "\n",
    "# Ler o arquivo usando pandas\n",
    "data = pd.read_csv(StringIO(data_str), sep=\"\\t\")\n",
    "\n",
    "# Verificar os dados carregados\n",
    "print(data.head())\n",
    "\n",
    "# Importar PyCaret\n",
    "from pycaret.classification import *\n",
    "\n",
    "# Configuração do ambiente\n",
    "s = setup(data, target='Molecular subtype', session_id=123)\n",
    "\n",
    "\n",
    "# Contar e listar as categorias de 'Molecular subtype'\n",
    "cancer_types = data['Molecular subtype'].value_counts()\n",
    "print(\"Tipos de câncer e suas frequências na amostra:\")\n",
    "print(cancer_types)\n",
    "\n",
    "# Configurar o ambiente de classificação em PyCaret\n",
    "s = setup(data, target='Molecular subtype', session_id=123)\n",
    "\n",
    "# Criar um modelo de Random Forest e ajustá-lo\n",
    "rf_model = create_model('rf')\n",
    "\n",
    "# Avaliar o modelo\n",
    "evaluate_model(rf_model)\n",
    "\n",
    "# Obter e imprimir as métricas\n",
    "results = pull()\n",
    "print(results)"
   ]
  },
  {
   "cell_type": "code",
   "execution_count": null,
   "id": "e91b355b-b670-4a03-b005-075c91bf6232",
   "metadata": {},
   "outputs": [],
   "source": []
  },
  {
   "cell_type": "code",
   "execution_count": null,
   "id": "d094e0d3-c6a8-43f4-9e20-d9bcfc7e593d",
   "metadata": {},
   "outputs": [],
   "source": []
  }
 ],
 "metadata": {
  "kernelspec": {
   "display_name": "Python 3 (ipykernel)",
   "language": "python",
   "name": "python3"
  },
  "language_info": {
   "codemirror_mode": {
    "name": "ipython",
    "version": 3
   },
   "file_extension": ".py",
   "mimetype": "text/x-python",
   "name": "python",
   "nbconvert_exporter": "python",
   "pygments_lexer": "ipython3",
   "version": "3.9.13"
  }
 },
 "nbformat": 4,
 "nbformat_minor": 5
}
