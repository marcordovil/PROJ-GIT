{
 "cells": [
  {
   "cell_type": "code",
   "execution_count": null,
   "id": "bf59c2c9-faaf-4290-9a56-c586cbab6a3e",
   "metadata": {},
   "outputs": [],
   "source": [
    "# Instalar o PyCaret\n",
    "!pip install pycaret\n",
    "\n",
    "# Importar bibliotecas necessárias\n",
    "import pandas as pd\n",
    "import warnings\n",
    "import requests\n",
    "from io import StringIO\n",
    "\n",
    "warnings.filterwarnings(\"ignore\")\n",
    "\n",
    "# URL do arquivo no GitHub\n",
    "url = 'https://raw.githubusercontent.com/marcordovil/PROJ-GIT/main/stad_data_clinical_ctgr.txt'\n",
    "\n",
    "# Baixar o conteúdo do arquivo\n",
    "response = requests.get(url)\n",
    "data_str = response.content.decode('utf-8')\n",
    "\n",
    "# Ler o arquivo usando pandas\n",
    "data = pd.read_csv(StringIO(data_str), sep=\"\\t\")\n",
    "\n",
    "# Verificar os dados carregados\n",
    "print(data.head())\n",
    "\n",
    "# Importar PyCaret\n",
    "from pycaret.classification import *\n",
    "\n",
    "# Configuração do ambiente\n",
    "s = setup(data, target='Molecular subtype', session_id=123)\n",
    "\n",
    "# Criar um modelo de Random Forest e ajustá-lo\n",
    "rf_model = create_model('rf')\n",
    "\n",
    "# Plotar a importância das características\n",
    "plot_model(rf_model, plot='feature')\n"
   ]
  }
 ],
 "metadata": {
  "kernelspec": {
   "display_name": "Python 3 (ipykernel)",
   "language": "python",
   "name": "python3"
  },
  "language_info": {
   "codemirror_mode": {
    "name": "ipython",
    "version": 3
   },
   "file_extension": ".py",
   "mimetype": "text/x-python",
   "name": "python",
   "nbconvert_exporter": "python",
   "pygments_lexer": "ipython3",
   "version": "3.9.13"
  }
 },
 "nbformat": 4,
 "nbformat_minor": 5
}
