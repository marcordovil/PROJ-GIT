{
 "cells": [
  {
   "cell_type": "code",
   "execution_count": null,
   "id": "266c35d2-af92-4038-b32f-e0947f7f256b",
   "metadata": {},
   "outputs": [],
   "source": [
    "\n",
    "# Importar bibliotecas necessárias\n",
    "import pandas as pd\n",
    "import warnings\n",
    "from pycaret.classification import *\n",
    "\n",
    "warnings.filterwarnings(\"ignore\")\n",
    "\n",
    "# Carregar o conjunto de dados\n",
    "data = pd.read_csv(\"C:\\\\MESTRADO\\\\01PROJ-PESQUISA\\\\DADOS\\\\stad_data_clinical_ctgr.txt\", sep=\"\\t\")\n",
    "\n",
    "# Configurar o ambiente de classificação em PyCaret\n",
    "s = setup(data, target='Molecular subtype', session_id=123)\n",
    "\n",
    "# Criar um modelo de Random Forest e ajustá-lo\n",
    "rf_model = create_model('rf')\n",
    "\n",
    "# Plotar a importância das características\n",
    "plot_model(rf_model, plot='feature')\n"
   ]
  },
  {
   "cell_type": "code",
   "execution_count": null,
   "id": "e91b355b-b670-4a03-b005-075c91bf6232",
   "metadata": {},
   "outputs": [],
   "source": []
  }
 ],
 "metadata": {
  "kernelspec": {
   "display_name": "Python 3 (ipykernel)",
   "language": "python",
   "name": "python3"
  },
  "language_info": {
   "codemirror_mode": {
    "name": "ipython",
    "version": 3
   },
   "file_extension": ".py",
   "mimetype": "text/x-python",
   "name": "python",
   "nbconvert_exporter": "python",
   "pygments_lexer": "ipython3",
   "version": "3.9.13"
  }
 },
 "nbformat": 4,
 "nbformat_minor": 5
}
