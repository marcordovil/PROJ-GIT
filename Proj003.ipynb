{
 "cells": [
  {
   "cell_type": "code",
   "execution_count": null,
   "id": "954bcd9f-7f3a-4f56-ad60-ebafa328beff",
   "metadata": {},
   "outputs": [],
   "source": [
    "# Importar bibliotecas necessárias\n",
    "import pandas as pd\n",
    "import warnings\n",
    "warnings.filterwarnings(\"ignore\")\n",
    "\n",
    "\n",
    "# Carregar o conjunto de dados\n",
    "data = pd.read_csv(\"C:\\\\MESTRADO\\\\01PROJ-PESQUISA\\\\DADOS\\\\stad_data_clinical_ctgr.txt\", sep=\"\\t\")\n",
    "from pycaret.classification import *\n",
    "\n",
    "# Configuração do ambiente\n",
    "s = setup(data, target='Molecular subtype', session_id=123)\n",
    "# Seleção de características\n",
    "selected_features = select_best_features(estimator='rf', n_features_to_select=10)\n"
   ]
  }
 ],
 "metadata": {
  "kernelspec": {
   "display_name": "Python 3 (ipykernel)",
   "language": "python",
   "name": "python3"
  },
  "language_info": {
   "codemirror_mode": {
    "name": "ipython",
    "version": 3
   },
   "file_extension": ".py",
   "mimetype": "text/x-python",
   "name": "python",
   "nbconvert_exporter": "python",
   "pygments_lexer": "ipython3",
   "version": "3.9.13"
  }
 },
 "nbformat": 4,
 "nbformat_minor": 5
}
