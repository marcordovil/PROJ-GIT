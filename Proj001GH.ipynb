{
 "cells": [
  {
   "cell_type": "code",
   "execution_count": null,
   "id": "e23e9294-5e92-4766-b261-e51c586b5c66",
   "metadata": {},
   "outputs": [],
   "source": [
    "!pip install pycaret"
   ]
  },
  {
   "cell_type": "code",
   "execution_count": null,
   "id": "5ce8e3bf-9516-40cd-b017-2bbaeef140a5",
   "metadata": {},
   "outputs": [],
   "source": [
    "# Instalar o PyCaret\n",
    "!pip install pycaret\n",
    "\n",
    "# Importar bibliotecas necessárias\n",
    "import pandas as pd\n",
    "import warnings\n",
    "import requests\n",
    "from io import StringIO\n",
    "\n",
    "warnings.filterwarnings(\"ignore\")\n",
    "\n",
    "# URL do arquivo no GitHub\n",
    "url = 'https://raw.githubusercontent.com/marcordovil/PROJ-GIT/main/stad_data_clinical_ctgr.txt'\n",
    "\n",
    "# Baixar o conteúdo do arquivo\n",
    "response = requests.get(url)\n",
    "data_str = response.content.decode('utf-8')\n",
    "\n",
    "# Ler o arquivo usando pandas\n",
    "data = pd.read_csv(StringIO(data_str), sep=\"\\t\")\n",
    "\n",
    "# Verificar os dados carregados\n",
    "print(data.head())\n",
    "\n",
    "# Importar PyCaret\n",
    "from pycaret.classification import *\n",
    "\n",
    "# Configuração do ambiente\n",
    "s = setup(data, target='Molecular subtype', session_id=123)\n",
    "\n",
    "# Comparar modelos para encontrar o melhor\n",
    "best_model = compare_models()\n",
    "\n",
    "# Obter as importâncias das características do melhor modelo\n",
    "importance = best_model.get_feature_importance()\n",
    "\n",
    "# Selecionar as 10 características mais importantes\n",
    "selected_features = importance.nlargest(10, 'Importance')\n",
    "\n",
    "# Verificar as características selecionadas\n",
    "print(selected_features)\n"
   ]
  }
 ],
 "metadata": {
  "kernelspec": {
   "display_name": "Python 3 (ipykernel)",
   "language": "python",
   "name": "python3"
  },
  "language_info": {
   "codemirror_mode": {
    "name": "ipython",
    "version": 3
   },
   "file_extension": ".py",
   "mimetype": "text/x-python",
   "name": "python",
   "nbconvert_exporter": "python",
   "pygments_lexer": "ipython3",
   "version": "3.9.13"
  }
 },
 "nbformat": 4,
 "nbformat_minor": 5
}
