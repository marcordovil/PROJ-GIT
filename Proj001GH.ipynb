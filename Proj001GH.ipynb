{
 "cells": [
  {
   "cell_type": "code",
   "execution_count": null,
   "id": "620459c6-92e5-44d8-94b9-870be4fca8fe",
   "metadata": {},
   "outputs": [],
   "source": [
    "# Importar bibliotecas necessárias\n",
    "import pandas as pd\n",
    "import warnings\n",
    "import requests\n",
    "from io import StringIO\n",
    "\n",
    "warnings.filterwarnings(\"ignore\")\n",
    "\n",
    "# URL do arquivo no GitHub (coloque o link bruto do arquivo aqui)\n",
    "url = 'https://raw.githubusercontent.com/marcordovil/PROJ-GIT/main/stad_data_clinical_ctgr.txt'\n",
    "\n",
    "# Baixar o conteúdo do arquivo\n",
    "response = requests.get(url)\n",
    "data_str = response.content.decode('utf-8')\n",
    "\n",
    "# Ler o arquivo usando pandas\n",
    "data = pd.read_csv(StringIO(data_str), sep=\"\\t\")\n",
    "\n",
    "# Verificar os dados carregados\n",
    "print(data.head())\n",
    "\n",
    "# Importar PyCaret\n",
    "from pycaret.classification import *\n",
    "\n",
    "# Configuração do ambiente\n",
    "s = setup(data, target='Molecular subtype', session_id=123)\n",
    "\n",
    "# Seleção de características\n",
    "selected_features = select_best_features(estimator='rf', n_features_to_select=10)\n",
    "\n",
    "# Verificar as características selecionadas\n",
    "print(selected_features)\n"
   ]
  }
 ],
 "metadata": {
  "kernelspec": {
   "display_name": "Python 3 (ipykernel)",
   "language": "python",
   "name": "python3"
  },
  "language_info": {
   "codemirror_mode": {
    "name": "ipython",
    "version": 3
   },
   "file_extension": ".py",
   "mimetype": "text/x-python",
   "name": "python",
   "nbconvert_exporter": "python",
   "pygments_lexer": "ipython3",
   "version": "3.9.13"
  }
 },
 "nbformat": 4,
 "nbformat_minor": 5
}
