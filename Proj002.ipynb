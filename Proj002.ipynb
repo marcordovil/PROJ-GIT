{
 "cells": [
  {
   "cell_type": "code",
   "execution_count": null,
   "id": "aee15a20-0f94-4356-b71d-a183bc0b5d6b",
   "metadata": {},
   "outputs": [],
   "source": [
    "# Importar bibliotecas necessárias para Ajustes de parametros \n",
    "# Grid Search: Testa todas as combinações possíveis de hiperparâmetros em um grid.\n",
    "import pandas as pd\n",
    "import warnings\n",
    "from pycaret.classification import *\n",
    "\n",
    "warnings.filterwarnings(\"ignore\")\n",
    "\n",
    "# Carregar o conjunto de dados\n",
    "data = pd.read_csv(\"C:\\\\MESTRADO\\\\01PROJ-PESQUISA\\\\DADOS\\\\stad_data_clinical_ctgr.txt\", sep=\"\\t\")\n",
    "from pycaret.classification import *\n",
    "\n",
    "# Configuração do ambiente\n",
    "s = setup(data, target='Molecular subtype', session_id=123)\n",
    "# Criação do modelo\n",
    "model = create_model('rf')\n",
    "# Ajuste de hiperparâmetros\n",
    "tuned_model = tune_model(model, optimize='Accuracy')\n"
   ]
  },
  {
   "cell_type": "code",
   "execution_count": null,
   "id": "e766413c-7164-4741-a3ed-e023566c23cf",
   "metadata": {},
   "outputs": [],
   "source": []
  },
  {
   "cell_type": "code",
   "execution_count": null,
   "id": "eafba4c1-6a67-405d-a8f4-ec15f26202be",
   "metadata": {},
   "outputs": [],
   "source": []
  },
  {
   "cell_type": "code",
   "execution_count": null,
   "id": "644df124-3a88-495d-ae2a-aa612e2a1b32",
   "metadata": {},
   "outputs": [],
   "source": []
  }
 ],
 "metadata": {
  "kernelspec": {
   "display_name": "Python 3 (ipykernel)",
   "language": "python",
   "name": "python3"
  },
  "language_info": {
   "codemirror_mode": {
    "name": "ipython",
    "version": 3
   },
   "file_extension": ".py",
   "mimetype": "text/x-python",
   "name": "python",
   "nbconvert_exporter": "python",
   "pygments_lexer": "ipython3",
   "version": "3.9.13"
  }
 },
 "nbformat": 4,
 "nbformat_minor": 5
}
